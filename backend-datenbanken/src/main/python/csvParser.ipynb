{
 "cells": [
  {
   "cell_type": "code",
   "execution_count": 2,
   "metadata": {},
   "outputs": [],
   "source": [
    "import pandas as pd\n",
    "from io import StringIO\n",
    "import re"
   ]
  },
  {
   "cell_type": "code",
   "execution_count": 3,
   "metadata": {},
   "outputs": [],
   "source": [
    "def extractParteien(html: str) -> list[list[str]]:\n",
    "    html = html.replace('\\n', '')\n",
    "    html = html.replace('\\t', '')\n",
    "    html = html.replace('</tr>', '')\n",
    "    html = html.replace('</td>', '')\n",
    "    html = html.replace('<br>', ' ')\n",
    "    html = html.replace('&nbsp;', '')\n",
    "    html = html.split('<tr>')[1:]\n",
    "    html = [partei.split('<td>')[2:] for partei in html]\n",
    "    return html"
   ]
  },
  {
   "cell_type": "code",
   "execution_count": 1,
   "metadata": {},
   "outputs": [],
   "source": [
    "# source folder\n",
    "kerg2_2021_csv = r'..\\resources\\electionData\\sourceCSV\\2021\\kerg2.csv'\n",
    "kerg2_2017_csv = r'..\\resources\\electionData\\sourceCSV\\2017\\kerg2.csv'\n",
    "\n",
    "bevoelkerungszahlen_2017_csv = r'..\\resources\\electionData\\sourceCSV\\2017\\bevoelkerungszahlen_2017.csv'\n",
    "bevoelkerungszahlen_2021_csv = r'..\\resources\\electionData\\sourceCSV\\2021\\bevoelkerungszahlen_2021.csv'\n",
    "\n",
    "parteien_2021_mitLandesliste_txt = r'..\\resources\\electionData\\sourceCSV\\2021\\parteien_2021_mitLandesliste.txt'\n",
    "parteien_2021_ohneLandesliste_txt = r'..\\resources\\electionData\\sourceCSV\\2021\\parteien_2021_ohneLandesliste.txt'\n",
    "parteien_2017_mitLandesliste_txt = r'..\\resources\\electionData\\sourceCSV\\2017\\parteien_2017_mitLandesliste.txt'\n",
    "parteien_2017_ohneLandesliste_txt = r'..\\resources\\electionData\\sourceCSV\\2017\\parteien_2017_ohneLandesliste.txt'\n",
    "\n",
    "kandidaturen_2021_csv = r'..\\resources\\electionData\\sourceCSV\\2021\\kandidaturen_2021.csv'\n",
    "kandidaturen_2017_csv = r'..\\resources\\electionData\\sourceCSV\\2017\\kandidaten_2017.csv'\n",
    "\n",
    "# target folder\n",
    "\n",
    "bundesLand_csv = r'..\\resources\\electionData\\targetCSV\\bundesland.csv'\n",
    "bevoelkerung_csv = r'..\\resources\\electionData\\targetCSV\\bevoelkerung.csv'\n",
    "\n",
    "wahlkreise_csv = r'..\\resources\\electionData\\targetCSV\\wahlkreise.csv'\n",
    "\n",
    "parteien_2021_csv = r'..\\resources\\electionData\\targetCSV\\2021\\parteien.csv'\n",
    "parteien_2021_ParteiName_csv = r'..\\resources\\electionData\\targetCSV\\2021\\parteien_name.csv'\n",
    "parteien_2021_EB_csv = r'..\\resources\\electionData\\targetCSV\\2021\\parteien_EB.csv'\n",
    "\n",
    "parteien_2017_csv = r'..\\resources\\electionData\\targetCSV\\2017\\parteien.csv'\n",
    "parteien_2017_ParteiName_csv = r'..\\resources\\electionData\\targetCSV\\2017\\parteien_name.csv'\n",
    "\n",
    "direktmandate_2021_csv = r'..\\resources\\electionData\\targetCSV\\2021\\direktmandate.csv'\n",
    "landesliste_2021_csv = r'..\\resources\\electionData\\targetCSV\\2021\\landesliste.csv'\n",
    "\n",
    "kandidaten_2017_csv = r'..\\resources\\electionData\\targetCSV\\2017\\kandidaten.csv'\n",
    "\n",
    "erststimme_aggr_2021_csv = r'..\\resources\\electionData\\targetCSV\\2021\\erststimmeAggr.csv'\n",
    "zweitstimme_aggr_2021_csv = r'..\\resources\\electionData\\targetCSV\\2021\\zweitstimmeAggr.csv'\n",
    "\n",
    "erststimme_aggr_2017_csv = r'..\\resources\\electionData\\targetCSV\\2017\\erststimmeAggr.csv'\n",
    "zweitstimme_aggr_2017_csv = r'..\\resources\\electionData\\targetCSV\\2017\\zweitstimmeAggr.csv'\n",
    "\n",
    "stimmen_csv = r'..\\resources\\electionData\\targetCSV\\stimmen.csv'\n"
   ]
  },
  {
   "cell_type": "code",
   "execution_count": 4,
   "metadata": {},
   "outputs": [],
   "source": [
    "# Bundesländer\n",
    "\n",
    "kerg2 = pd.read_csv(kerg2_2021_csv, sep=';', skiprows=9)\n",
    "\n",
    "kerg2 = kerg2.loc[kerg2['Gebietsart'] == 'Land'] # filter for bundesland only\n",
    "kerg2 = kerg2.filter(items=['Gebietsnummer', 'Gebietsname']) # drop unecessary columns\n",
    "kerg2 = kerg2.drop_duplicates(subset='Gebietsnummer') \n",
    "kerg2 = kerg2.sort_values(by = 'Gebietsnummer')\n",
    "kerg2 = kerg2.rename(columns={'Gebietsnummer':'id', 'Gebietsname': 'name'})\n",
    "\n",
    "kerg2.to_csv(bundesLand_csv, index=False, sep=';')"
   ]
  },
  {
   "cell_type": "code",
   "execution_count": 5,
   "metadata": {},
   "outputs": [],
   "source": [
    "# Bevölkerung\n",
    "\n",
    "bevoelkerung_2021 = pd.read_csv(bevoelkerungszahlen_2021_csv, sep=';')\n",
    "bevoelkerung_2021['jahr'] = 2021\n",
    "\n",
    "bevoelkerung_2017 = pd.read_csv(bevoelkerungszahlen_2017_csv, sep=';')\n",
    "bevoelkerung_2017['jahr'] = 2017\n",
    "\n",
    "bevoelkerung = pd.concat([bevoelkerung_2017, bevoelkerung_2021])\n",
    "bevoelkerung = bevoelkerung.rename(columns={'name':'bundesland'})\n",
    "\n",
    "bevoelkerung.to_csv(bevoelkerung_csv, index=False, sep=';')\n",
    "\n"
   ]
  },
  {
   "cell_type": "code",
   "execution_count": 6,
   "metadata": {},
   "outputs": [],
   "source": [
    "# wahlkreise\n",
    "\n",
    "kerg2 = pd.read_csv(kerg2_2021_csv, sep=';', skiprows=9)\n",
    "\n",
    "kerg2 = kerg2.loc[kerg2['Gebietsart'] == 'Wahlkreis'] # filter for wahlkreis only\n",
    "kerg2 = kerg2.filter(items=['Gebietsnummer', 'Gebietsname', 'UegGebietsnummer', 'UegGebietsnummer']) # drop unecessary columns\n",
    "kerg2['UegGebietsnummer'] = kerg2['UegGebietsnummer'].astype('int')\n",
    "kerg2 = kerg2.drop_duplicates(subset='Gebietsnummer') \n",
    "kerg2 = kerg2.sort_values(by = 'Gebietsnummer')\n",
    "kerg2 = kerg2.rename(columns={'Gebietsnummer':'id', 'Gebietsname': 'name', 'UegGebietsnummer': 'bundesland_id'})\n",
    "\n",
    "kerg2.to_csv(wahlkreise_csv, index=False, sep=';')"
   ]
  },
  {
   "cell_type": "code",
   "execution_count": 7,
   "metadata": {},
   "outputs": [],
   "source": [
    "# Parteien/ EB 2021 kerg2 kurzbezeichnugnen\n",
    "\n",
    "parteien_2021 = pd.read_csv(kerg2_2021_csv, sep=';', skiprows=9)\n",
    "parteien_2021 = parteien_2021.loc[parteien_2021['Gruppenart'] != 'System-Gruppe']\n",
    "parteien_2021 = parteien_2021.loc[parteien_2021['Gebietsart'] == 'Wahlkreis']\n",
    "parteien_2021['isEinzelbewerber'] = parteien_2021['Gruppenart'].map(lambda art: art == 'Einzelbewerber/Wählergruppe')\n",
    "parteien_2021['wahlkreis_id'] = parteien_2021.apply(lambda row: row.Gebietsnummer if row.Gruppenart == 'Einzelbewerber/Wählergruppe' else -1, axis=1)\n",
    "parteien_2021 = parteien_2021.filter(items=['Gruppenname', 'wahlkreis_id', 'isEinzelbewerber'])\n",
    "parteien_2021 = parteien_2021.drop_duplicates()\n",
    "parteien_2021 = parteien_2021.rename(columns={'Gruppenname': 'kurzbezeichnung'})\n",
    "\n",
    "parteien_2021.to_csv(parteien_2021_csv, sep=';', index=False)"
   ]
  },
  {
   "cell_type": "code",
   "execution_count": 8,
   "metadata": {},
   "outputs": [],
   "source": [
    "# Parteien 2021 LangName \n",
    "\n",
    "# https://www.bundeswahlleiterin.de/bundestagswahlen/2021/wahlbewerber.html\n",
    "with open(parteien_2021_mitLandesliste_txt, mode ='r') as file1, open(parteien_2021_ohneLandesliste_txt, mode ='r') as file2:\n",
    "    html = ''.join(file1.readlines() + file2.readlines())\n",
    "    parteien = extractParteien(html)\n",
    "    parteien_2021_lang = pd.DataFrame(parteien, columns=['kurzbezeichnung', 'name', 'Zusatzbezeichnung'])\n",
    "    parteien_2021_lang.loc[parteien_2021_lang['Zusatzbezeichnung'] == '–', 'Zusatzbezeichnung'] = ''\n",
    "    parteien_2021_lang.to_csv(parteien_2021_ParteiName_csv, sep=';', index=False)\n"
   ]
  },
  {
   "cell_type": "code",
   "execution_count": 9,
   "metadata": {},
   "outputs": [],
   "source": [
    "# EB 2021 Details\n",
    "\n",
    "einzelBewerber_2021 = pd.read_csv(kandidaturen_2021_csv, sep= ';')\n",
    "einzelBewerber_2021 = einzelBewerber_2021.filter(items=['Gruppenname', 'Gebietsnummer', 'GruppennameLang'])\n",
    "einzelBewerber_2021 = einzelBewerber_2021.rename(columns={'Gruppenname':'kurzbezeichnung', 'Gebietsnummer': 'wahlkreis_id'})\n",
    "\n",
    "einzelBewerber_2021['dropDuplicatePartei'] = einzelBewerber_2021.apply(lambda row: row.name if row.kurzbezeichnung.startswith('EB:') else -1, axis=1)\n",
    "einzelBewerber_2021 = einzelBewerber_2021.drop_duplicates(subset=['kurzbezeichnung', 'dropDuplicatePartei'])\n",
    "einzelBewerber_2021 = einzelBewerber_2021.filter(items=['kurzbezeichnung', 'wahlkreis_id', 'GruppennameLang'])\n",
    "\n",
    "einzelBewerber_2021.to_csv(parteien_2021_EB_csv, sep=';', index=False)"
   ]
  },
  {
   "cell_type": "code",
   "execution_count": 10,
   "metadata": {},
   "outputs": [],
   "source": [
    "# Parteien/ EB 2017 kerg2 kurzbezeichnugnen\n",
    "\n",
    "parteien_2017 = pd.read_csv(kerg2_2017_csv, sep=';', skiprows=9)\n",
    "parteien_2017 = parteien_2017.loc[parteien_2017['Gruppenart'] != 'System-Gruppe']\n",
    "parteien_2017 = parteien_2017.loc[parteien_2017['Gebietsart'] == 'Wahlkreis']\n",
    "parteien_2017['isEinzelbewerber'] = parteien_2017['Gruppenart'].map(lambda art: art == 'Einzelbewerber/Wählergruppe')\n",
    "parteien_2017['wahlkreis_id'] = parteien_2017.apply(lambda row: row.Gebietsnummer if row.Gruppenart == 'Einzelbewerber/Wählergruppe' else -1, axis=1)\n",
    "parteien_2017 = parteien_2017.filter(items=['Gruppenname', 'wahlkreis_id', 'isEinzelbewerber'])\n",
    "parteien_2017 = parteien_2017.drop_duplicates()\n",
    "parteien_2021 = parteien_2021.rename(columns={'Gruppenname': 'kurzbezeichnung'})\n",
    "\n",
    "parteien_2017.to_csv(parteien_2017_csv, sep=';', index=False)"
   ]
  },
  {
   "cell_type": "code",
   "execution_count": 11,
   "metadata": {},
   "outputs": [],
   "source": [
    "# Parteien 2017 LangName \n",
    "\n",
    "# https://www.bundeswahlleiterin.de/bundestagswahlen/2017/wahlbewerber.html\n",
    "with open(parteien_2017_mitLandesliste_txt, mode ='r') as file1,  open(parteien_2017_ohneLandesliste_txt, mode ='r') as file2:\n",
    "    html = ''.join(file1.readlines()+ file2.readlines())\n",
    "    parteien = extractParteien(html)\n",
    "    parteien_2017_lang = pd.DataFrame(parteien, columns=['kurzbezeichnung', 'name', 'Zusatzbezeichnung'])\n",
    "    parteien_2017_lang.loc[parteien_2017_lang['name'] == 'Allianz Deutscher Demokraten', 'kurzbezeichnung'] = 'AD-Demokraten' # found in kerg2 2017\n",
    "    parteien_2017_lang.loc[parteien_2017_lang['name'] == 'Neue Liberale – Die Sozialliberalen', 'kurzbezeichnung'] = 'Neue Liberale' # found in kerg2 2017\n",
    "\n",
    "    parteien_2017_lang.to_csv(parteien_2017_ParteiName_csv, sep=';', index=False)\n"
   ]
  },
  {
   "cell_type": "code",
   "execution_count": 36,
   "metadata": {},
   "outputs": [],
   "source": [
    "# direktmandate 2021\n",
    "\n",
    "direktmandate_2021 = pd.read_csv(kandidaturen_2021_csv, sep= ';')\n",
    "\n",
    "direktmandate_2021 = direktmandate_2021.loc[direktmandate_2021['Gebietsart'] == 'Wahlkreis']\n",
    "direktmandate_2021 = direktmandate_2021.filter(items=['Vornamen', 'Nachname', 'Geburtsjahr', 'Gruppenname', 'Gebietsname'])\n",
    "direktmandate_2021 = direktmandate_2021.rename(columns={'Gruppenname': 'partei', 'Gebietsname' : 'wahlkreis'})\n",
    "direktmandate_2021['jahr'] = 2021\n",
    "direktmandate_2021.insert(loc=5, column='bundesland', value=-1)\n",
    "direktmandate_2021.insert(loc=6, column='listenplatz', value=-1)\n",
    "\n",
    "\n",
    "direktmandate_2021.to_csv(direktmandate_2021_csv, sep=';', index=False)"
   ]
  },
  {
   "cell_type": "code",
   "execution_count": 34,
   "metadata": {},
   "outputs": [],
   "source": [
    "# landeslisten 2021\n",
    "\n",
    "landesliste_2021 = pd.read_csv(kandidaturen_2021_csv, sep= ';')\n",
    "\n",
    "landesliste_2021 = landesliste_2021.loc[landesliste_2021['Gebietsart'] == 'Land']\n",
    "landesliste_2021 = landesliste_2021.filter(items=['Vornamen', 'Nachname', 'Geburtsjahr', 'Gruppenname', 'Gebietsname', 'Listenplatz'])\n",
    "landesliste_2021 = landesliste_2021.rename(columns={'Gruppenname': 'partei', 'Gebietsname' : 'bundesland'})\n",
    "landesliste_2021['jahr'] = 2021\n",
    "landesliste_2021['Listenplatz'] = landesliste_2021['Listenplatz'].astype('int')\n",
    "landesliste_2021.insert(loc=4, column='wahlkreis', value=-1)\n",
    "\n",
    "landesliste_2021.to_csv(landesliste_2021_csv, sep=';', index=False)"
   ]
  },
  {
   "cell_type": "code",
   "execution_count": null,
   "metadata": {},
   "outputs": [],
   "source": [
    "# kandidaturen 2017\n",
    "\n",
    "with open(kandidaturen_2017_csv) as file:\n",
    "    csv = ''.join(file.readlines())\n",
    "    csv = csv.replace('\\n;;;', '')\n",
    "\n",
    "kandidaturen_2017 = pd.read_csv(StringIO(csv), sep= ';')\n",
    "\n",
    "kandidaturen_2017['vorname'] = kandidaturen_2017['Name, Vorname(n)'].map(lambda s: s.split(', ')[1])\n",
    "kandidaturen_2017['nachname'] = kandidaturen_2017['Name, Vorname(n)'].map(lambda s: s.split(', ')[0])\n",
    "kandidaturen_2017['wahlkreis_id'] = kandidaturen_2017['kandidiert im'].map(lambda s: int(next(iter(re.findall('Wahlkreis ([\\\\d]*)', s)), -1)))\n",
    "kandidaturen_2017['bundesland'] = kandidaturen_2017['kandidiert im'].map(lambda s: next(iter(re.findall('Land (.*?) \\\\(Platz', s)), -1))\n",
    "kandidaturen_2017['listenplatz'] = kandidaturen_2017['kandidiert im'].map(lambda s: int(next(iter(re.findall('Land.*?\\\\(Platz\\\\xa0([\\\\d]*)', s)), -1)))\n",
    "kandidaturen_2017['jahr'] = 2017\n",
    "kandidaturen_2017 = kandidaturen_2017.rename(columns={'Geburts_jahr': 'geburtsjahr'})\n",
    "kandidaturen_2017 = kandidaturen_2017.filter(items=['vorname', 'nachname', 'geburtsjahr', 'Partei', 'wahlkreis_id', 'bundesland', 'listenplatz', 'jahr'])\n",
    "kandidaturen_2017.to_csv(kandidaten_2017_csv, sep=';', index=False)"
   ]
  },
  {
   "cell_type": "code",
   "execution_count": null,
   "metadata": {},
   "outputs": [],
   "source": [
    "# zweitstimme aggr 2021\n",
    "\n",
    "kerg2_2021 = pd.read_csv(kerg2_2021_csv, sep=';', skiprows=9)\n",
    "kerg2_2021 = kerg2_2021.loc[kerg2_2021['Gebietsart'] == 'Wahlkreis']\n",
    "kerg2_2021 = kerg2_2021.loc[kerg2_2021['Stimme'] == 2]\n",
    "kerg2_2021 = kerg2_2021.loc[kerg2_2021['Gruppenart'] == 'Partei']\n",
    "kerg2_2021 = kerg2_2021.filter(items=['Gruppenname', 'Gebietsnummer', 'Anzahl'])\n",
    "kerg2_2021.insert(loc=2, column='jahr', value=2021)\n",
    "kerg2_2021['Anzahl'] = kerg2_2021['Anzahl'].map(lambda x: int(x) if not pd.isna(x) else 0)\n",
    "\n",
    "kerg2_2021 = kerg2_2021.rename(columns={'Gruppenname':'kurzbezeichnung', 'Gebietsnummer': 'wahlkreis_id', 'Anzahl': 'anzahl'})\n",
    "\n",
    "kerg2_2021.to_csv(zweitstimme_aggr_2021_csv, sep=';', index=False)\n"
   ]
  },
  {
   "cell_type": "code",
   "execution_count": null,
   "metadata": {},
   "outputs": [],
   "source": [
    "# zweitstimme aggr 2017\n",
    "\n",
    "kerg2_2017 = pd.read_csv(kerg2_2017_csv, sep=';', skiprows=9) \n",
    "kerg2_2017 = kerg2_2017.loc[kerg2_2017['Gebietsart'] == 'Wahlkreis']\n",
    "kerg2_2017 = kerg2_2017.loc[kerg2_2017['Stimme'] == 2]\n",
    "kerg2_2017 = kerg2_2017.loc[kerg2_2017['Gruppenart'] == 'Partei']\n",
    "kerg2_2017 = kerg2_2017.filter(items=['Gruppenname', 'Gebietsnummer', 'Anzahl'])\n",
    "kerg2_2017.insert(loc=2, column='jahr', value=2017)\n",
    "kerg2_2017['Anzahl'] = kerg2_2017['Anzahl'].map(lambda x: int(x) if not pd.isna(x) else 0)\n",
    "\n",
    "kerg2_2017 = kerg2_2017.rename(columns={'Gruppenname':'kurzbezeichnung', 'Gebietsnummer': 'wahlkreis_id', 'Anzahl': 'anzahl'})\n",
    "\n",
    "kerg2_2017.to_csv(zweitstimme_aggr_2017_csv, sep=';', index=False)\n"
   ]
  },
  {
   "cell_type": "code",
   "execution_count": null,
   "metadata": {},
   "outputs": [],
   "source": [
    "# erstimme aggr 2021\n",
    "\n",
    "kerg2_2021 = pd.read_csv(kerg2_2021_csv, sep=';', skiprows=9)\n",
    "kerg2_2021 = kerg2_2021.loc[kerg2_2021['Gebietsart'] == 'Wahlkreis']\n",
    "kerg2_2021 = kerg2_2021.loc[kerg2_2021['Stimme'] == 1]\n",
    "kerg2_2021 = kerg2_2021.loc[kerg2_2021['Gruppenart'] != 'System-Gruppe']\n",
    "kerg2_2021 = kerg2_2021.filter(items=['Gruppenname', 'Gebietsnummer', 'Anzahl'])\n",
    "kerg2_2021.insert(loc=2, column='jahr', value=2021)\n",
    "kerg2_2021['Anzahl'] = kerg2_2021['Anzahl'].map(lambda x: int(x) if not pd.isna(x) else 0)\n",
    "\n",
    "kerg2_2017 = kerg2_2017.rename(columns={'Gruppenname':'kurzbezeichnung', 'Gebietsnummer': 'wahlkreis_id', 'Anzahl': 'anzahl'})\n",
    "\n",
    "kerg2_2021.to_csv(erststimme_aggr_2021_csv, sep=';', index=False)\n"
   ]
  },
  {
   "cell_type": "code",
   "execution_count": null,
   "metadata": {},
   "outputs": [],
   "source": [
    "# erstimme aggr 2017\n",
    "\n",
    "kerg2_2017 = pd.read_csv(kerg2_2017_csv, sep=';', skiprows=9)\n",
    "kerg2_2017 = kerg2_2017.loc[kerg2_2017['Gebietsart'] == 'Wahlkreis']\n",
    "kerg2_2017 = kerg2_2017.loc[kerg2_2017['Stimme'] == 1]\n",
    "kerg2_2017 = kerg2_2017.loc[kerg2_2017['Gruppenart'] != 'System-Gruppe']\n",
    "kerg2_2017 = kerg2_2017.filter(items=['Gruppenname', 'Gebietsnummer', 'Anzahl'])\n",
    "kerg2_2017.insert(loc=2, column='jahr', value=2017)\n",
    "kerg2_2017['Anzahl'] = kerg2_2017['Anzahl'].map(lambda x: int(x) if not pd.isna(x) else 0)\n",
    "\n",
    "kerg2_2017 = kerg2_2017.rename(columns={'Gruppenname':'kurzbezeichnung', 'Gebietsnummer': 'wahlkreis_id', 'Anzahl': 'anzahl'})\n",
    "\n",
    "kerg2_2017.to_csv(erststimme_aggr_2017_csv, sep=';', index=False)\n"
   ]
  }
 ],
 "metadata": {
  "kernelspec": {
   "display_name": "base",
   "language": "python",
   "name": "python3"
  },
  "language_info": {
   "codemirror_mode": {
    "name": "ipython",
    "version": 3
   },
   "file_extension": ".py",
   "mimetype": "text/x-python",
   "name": "python",
   "nbconvert_exporter": "python",
   "pygments_lexer": "ipython3",
   "version": "3.12.7"
  }
 },
 "nbformat": 4,
 "nbformat_minor": 2
}
